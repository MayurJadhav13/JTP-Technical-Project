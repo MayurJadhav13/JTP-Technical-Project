{
 "cells": [
  {
   "cell_type": "markdown",
   "id": "83c17fda",
   "metadata": {},
   "source": [
    "Image Recommendation System Using Autoencoder"
   ]
  },
  {
   "cell_type": "markdown",
   "id": "51b8543a",
   "metadata": {},
   "source": [
    "\n",
    "\n",
    "This notebook builds and trains an autoencoder neural network to extract latent features from product images. These features are used to recommend visually similar items.\n",
    "\n",
    "The notebook is structured as follows:\n",
    "- Import libraries and define constants\n",
    "- Uses cv2, NumPy, and Keras layers/models like Conv2D, MaxPooling2D, UpSampling2D.\n",
    "- Load and preprocess images\n",
    "- Reads, resizes (128x128), normalizes, and reshapes images from train folder.\n",
    "- Build autoencoder architecture\n",
    "- Defines a convolutional encoder-decoder model using Keras.\n",
    "- Compile and train the model\n",
    "- Trains the model with MSE loss and Adam optimizer.\n",
    " - Save the trained model\n",
    " - Exports model to a file (autoencoder.h5) for later inference."
   ]
  },
  {
   "cell_type": "code",
   "execution_count": null,
   "id": "227d82ea",
   "metadata": {},
   "outputs": [
    {
     "name": "stderr",
     "output_type": "stream",
     "text": [
      "c:\\Users\\Sanika\\anaconda3\\envs\\myenv\\lib\\site-packages\\requests\\__init__.py:86: RequestsDependencyWarning: Unable to find acceptable character detection dependency (chardet or charset_normalizer).\n",
      "  warnings.warn(\n"
     ]
    }
   ],
   "source": [
    "import tensorflow as tf\n",
    "from tensorflow.keras import layers, models\n",
    "import PIL\n",
    "import shutil"
   ]
  },
  {
   "cell_type": "markdown",
   "id": "db05fb6b",
   "metadata": {},
   "source": [
    "Imports TensorFlow and Keras modules for building neural networks, along with PIL for image processing and shutil for file operations.\n"
   ]
  },
  {
   "cell_type": "code",
   "execution_count": null,
   "id": "10196d89",
   "metadata": {},
   "outputs": [],
   "source": [
    "# Configuration\n",
    "train_directory = r\"data\\Train\\train\"\n",
    "test_directory = r\"data\\Test\\test\"\n",
    "batch_size = 64\n",
    "image_size = (32, 32)\n",
    "epochs = 25\n",
    "model_path = \"encoder_model.keras\""
   ]
  },
  {
   "cell_type": "markdown",
   "id": "3c8238fd",
   "metadata": {},
   "source": [
    "Sets configuration variables for data directories, batch size, image dimensions, number of training epochs, and the model save path.\n"
   ]
  },
  {
   "cell_type": "code",
   "execution_count": 3,
   "id": "d431a53d",
   "metadata": {},
   "outputs": [
    {
     "name": "stdout",
     "output_type": "stream",
     "text": [
      "Found 44364 images belonging to 2 classes.\n",
      "Found 44364 images belonging to 2 classes.\n"
     ]
    }
   ],
   "source": [
    "def create_data_generator(base_directory, batch_size, image_size):\n",
    "    datagen = tf.keras.preprocessing.image.ImageDataGenerator(rescale=1./255)\n",
    "    generator = datagen.flow_from_directory(\n",
    "        base_directory,\n",
    "        target_size=image_size,\n",
    "        batch_size=batch_size,\n",
    "        class_mode=None,\n",
    "        shuffle=True,\n",
    "        color_mode='rgb'\n",
    "    )\n",
    "    return generator\n",
    "\n",
    "def create_autoencoder_generator(image_generator):\n",
    "    for batch in image_generator:\n",
    "        yield (batch, batch)\n",
    "\n",
    "train_generator = create_data_generator(\"data\", batch_size, image_size)\n",
    "test_generator = create_data_generator(\"data\", batch_size, image_size)"
   ]
  },
  {
   "cell_type": "markdown",
   "id": "c5c25f5a",
   "metadata": {},
   "source": [
    "Defines functions to create image data generators that load and rescale images from directories, and a generator that yields image batches as both input and output for training an autoencoder.  \n",
    "Initializes training and testing generators using these functions.\n"
   ]
  },
  {
   "cell_type": "code",
   "execution_count": 4,
   "id": "2bb0c507",
   "metadata": {},
   "outputs": [
    {
     "name": "stderr",
     "output_type": "stream",
     "text": [
      "c:\\Users\\Sanika\\anaconda3\\envs\\myenv\\lib\\site-packages\\keras\\src\\layers\\convolutional\\base_conv.py:113: UserWarning: Do not pass an `input_shape`/`input_dim` argument to a layer. When using Sequential models, prefer using an `Input(shape)` object as the first layer in the model instead.\n",
      "  super().__init__(activity_regularizer=activity_regularizer, **kwargs)\n",
      "c:\\Users\\Sanika\\anaconda3\\envs\\myenv\\lib\\site-packages\\keras\\src\\layers\\core\\dense.py:93: UserWarning: Do not pass an `input_shape`/`input_dim` argument to a layer. When using Sequential models, prefer using an `Input(shape)` object as the first layer in the model instead.\n",
      "  super().__init__(activity_regularizer=activity_regularizer, **kwargs)\n"
     ]
    }
   ],
   "source": [
    "def build_autoencoder(input_shape):\n",
    "    encoder = models.Sequential([\n",
    "        layers.Conv2D(32, (3, 3), activation='relu', padding='same', input_shape=input_shape),\n",
    "        layers.MaxPooling2D((2, 2), padding='same'),\n",
    "        layers.Conv2D(64, (3, 3), activation='relu', padding='same'),\n",
    "        layers.MaxPooling2D((2, 2), padding='same'),\n",
    "        layers.Flatten(),\n",
    "        layers.Dense(128, activation='relu'),\n",
    "        layers.Dense(64, activation='relu'),\n",
    "        layers.Dense(32, activation='relu')  # Latent space\n",
    "    ])\n",
    "\n",
    "    decoder = models.Sequential([\n",
    "        layers.Dense(64, activation='relu', input_shape=(32,)),\n",
    "        layers.Dense(128, activation='relu'),\n",
    "        layers.Dense(input_shape[0] * input_shape[1] * input_shape[2], activation='sigmoid'),\n",
    "        layers.Reshape(input_shape)\n",
    "    ])\n",
    "\n",
    "    autoencoder = models.Sequential([encoder, decoder])\n",
    "    autoencoder.compile(optimizer='adam', loss='binary_crossentropy')\n",
    "    return autoencoder\n",
    "\n",
    "input_shape = image_size + (3,)  # RGB\n",
    "autoencoder = build_autoencoder(input_shape)"
   ]
  },
  {
   "cell_type": "markdown",
   "id": "b4b4b2e8",
   "metadata": {},
   "source": [
    "Builds a convolutional autoencoder model with an encoder that compresses the input image to a 32-dimensional latent space and a decoder that reconstructs the image.  \n",
    "The model is compiled with Adam optimizer and binary cross-entropy loss.\n"
   ]
  },
  {
   "cell_type": "code",
   "execution_count": null,
   "id": "36fefffc",
   "metadata": {},
   "outputs": [
    {
     "name": "stdout",
     "output_type": "stream",
     "text": [
      "Epoch 1/25\n",
      "\u001b[1m694/694\u001b[0m \u001b[32m━━━━━━━━━━━━━━━━━━━━\u001b[0m\u001b[37m\u001b[0m \u001b[1m2427s\u001b[0m 3s/step - loss: 0.3089 - val_loss: 0.2300\n",
      "Epoch 2/25\n",
      "\u001b[1m694/694\u001b[0m \u001b[32m━━━━━━━━━━━━━━━━━━━━\u001b[0m\u001b[37m\u001b[0m \u001b[1m1740s\u001b[0m 3s/step - loss: 0.2251 - val_loss: 0.2175\n",
      "Epoch 3/25\n",
      "\u001b[1m694/694\u001b[0m \u001b[32m━━━━━━━━━━━━━━━━━━━━\u001b[0m\u001b[37m\u001b[0m \u001b[1m1741s\u001b[0m 3s/step - loss: 0.2179 - val_loss: 0.2167\n",
      "Epoch 4/25\n",
      "\u001b[1m694/694\u001b[0m \u001b[32m━━━━━━━━━━━━━━━━━━━━\u001b[0m\u001b[37m\u001b[0m \u001b[1m1736s\u001b[0m 3s/step - loss: 0.2127 - val_loss: 0.2103\n",
      "Epoch 5/25\n",
      "\u001b[1m694/694\u001b[0m \u001b[32m━━━━━━━━━━━━━━━━━━━━\u001b[0m\u001b[37m\u001b[0m \u001b[1m1637s\u001b[0m 2s/step - loss: 0.2092 - val_loss: 0.2084\n",
      "Epoch 6/25\n",
      "\u001b[1m694/694\u001b[0m \u001b[32m━━━━━━━━━━━━━━━━━━━━\u001b[0m\u001b[37m\u001b[0m \u001b[1m2375s\u001b[0m 3s/step - loss: 0.2073 - val_loss: 0.2064\n",
      "Epoch 7/25\n",
      "\u001b[1m694/694\u001b[0m \u001b[32m━━━━━━━━━━━━━━━━━━━━\u001b[0m\u001b[37m\u001b[0m \u001b[1m3611s\u001b[0m 5s/step - loss: 0.2063 - val_loss: 0.2052\n",
      "Epoch 8/25\n",
      "\u001b[1m694/694\u001b[0m \u001b[32m━━━━━━━━━━━━━━━━━━━━\u001b[0m\u001b[37m\u001b[0m \u001b[1m2375s\u001b[0m 3s/step - loss: 0.2052 - val_loss: 0.2062\n",
      "Epoch 9/25\n",
      "\u001b[1m694/694\u001b[0m \u001b[32m━━━━━━━━━━━━━━━━━━━━\u001b[0m\u001b[37m\u001b[0m \u001b[1m1482s\u001b[0m 2s/step - loss: 0.2042 - val_loss: 0.2035\n",
      "Epoch 10/25\n",
      "\u001b[1m694/694\u001b[0m \u001b[32m━━━━━━━━━━━━━━━━━━━━\u001b[0m\u001b[37m\u001b[0m \u001b[1m1236s\u001b[0m 2s/step - loss: 0.2029 - val_loss: 0.2034\n",
      "Epoch 11/25\n",
      "\u001b[1m694/694\u001b[0m \u001b[32m━━━━━━━━━━━━━━━━━━━━\u001b[0m\u001b[37m\u001b[0m \u001b[1m1151s\u001b[0m 2s/step - loss: 0.2029 - val_loss: 0.2021\n",
      "Epoch 12/25\n",
      "\u001b[1m694/694\u001b[0m \u001b[32m━━━━━━━━━━━━━━━━━━━━\u001b[0m\u001b[37m\u001b[0m \u001b[1m1055s\u001b[0m 2s/step - loss: 0.2058 - val_loss: 0.2017\n",
      "Epoch 13/25\n",
      "\u001b[1m694/694\u001b[0m \u001b[32m━━━━━━━━━━━━━━━━━━━━\u001b[0m\u001b[37m\u001b[0m \u001b[1m1040s\u001b[0m 2s/step - loss: 0.2025 - val_loss: 0.2012\n",
      "Epoch 14/25\n",
      "\u001b[1m694/694\u001b[0m \u001b[32m━━━━━━━━━━━━━━━━━━━━\u001b[0m\u001b[37m\u001b[0m \u001b[1m1032s\u001b[0m 1s/step - loss: 0.2010 - val_loss: 0.2017\n",
      "Epoch 15/25\n",
      "\u001b[1m694/694\u001b[0m \u001b[32m━━━━━━━━━━━━━━━━━━━━\u001b[0m\u001b[37m\u001b[0m \u001b[1m1026s\u001b[0m 1s/step - loss: 0.2014 - val_loss: 0.2008\n",
      "Epoch 16/25\n",
      "\u001b[1m694/694\u001b[0m \u001b[32m━━━━━━━━━━━━━━━━━━━━\u001b[0m\u001b[37m\u001b[0m \u001b[1m1032s\u001b[0m 1s/step - loss: 0.2003 - val_loss: 0.2000\n",
      "Epoch 17/25\n",
      "\u001b[1m694/694\u001b[0m \u001b[32m━━━━━━━━━━━━━━━━━━━━\u001b[0m\u001b[37m\u001b[0m \u001b[1m1032s\u001b[0m 1s/step - loss: 0.2001 - val_loss: 0.2014\n",
      "Epoch 18/25\n",
      "\u001b[1m694/694\u001b[0m \u001b[32m━━━━━━━━━━━━━━━━━━━━\u001b[0m\u001b[37m\u001b[0m \u001b[1m1027s\u001b[0m 1s/step - loss: 0.2003 - val_loss: 0.1997\n",
      "Epoch 19/25\n",
      "\u001b[1m694/694\u001b[0m \u001b[32m━━━━━━━━━━━━━━━━━━━━\u001b[0m\u001b[37m\u001b[0m \u001b[1m1033s\u001b[0m 1s/step - loss: 0.1989 - val_loss: 0.1995\n",
      "Epoch 20/25\n",
      "\u001b[1m694/694\u001b[0m \u001b[32m━━━━━━━━━━━━━━━━━━━━\u001b[0m\u001b[37m\u001b[0m \u001b[1m1030s\u001b[0m 1s/step - loss: 0.1999 - val_loss: 0.1996\n",
      "Epoch 21/25\n",
      "\u001b[1m694/694\u001b[0m \u001b[32m━━━━━━━━━━━━━━━━━━━━\u001b[0m\u001b[37m\u001b[0m \u001b[1m1024s\u001b[0m 1s/step - loss: 0.1989 - val_loss: 0.1994\n",
      "Epoch 22/25\n",
      "\u001b[1m694/694\u001b[0m \u001b[32m━━━━━━━━━━━━━━━━━━━━\u001b[0m\u001b[37m\u001b[0m \u001b[1m1019s\u001b[0m 1s/step - loss: 0.1998 - val_loss: 0.1988\n",
      "Epoch 23/25\n",
      "\u001b[1m694/694\u001b[0m \u001b[32m━━━━━━━━━━━━━━━━━━━━\u001b[0m\u001b[37m\u001b[0m \u001b[1m1013s\u001b[0m 1s/step - loss: 0.1987 - val_loss: 0.1986\n",
      "Epoch 24/25\n",
      "\u001b[1m694/694\u001b[0m \u001b[32m━━━━━━━━━━━━━━━━━━━━\u001b[0m\u001b[37m\u001b[0m \u001b[1m1011s\u001b[0m 1s/step - loss: 0.1987 - val_loss: 0.1986\n",
      "Epoch 25/25\n",
      "\u001b[1m694/694\u001b[0m \u001b[32m━━━━━━━━━━━━━━━━━━━━\u001b[0m\u001b[37m\u001b[0m \u001b[1m1037s\u001b[0m 1s/step - loss: 0.1985 - val_loss: 0.1981\n",
      "Autoencoder trained and saved at: model/encoder_model.keras\n"
     ]
    }
   ],
   "source": [
    "import os\n",
    "\n",
    "model_path = \"model/encoder_model.keras\"\n",
    "\n",
    "autoencoder_train_generator = create_autoencoder_generator(train_generator)\n",
    "autoencoder_test_generator = create_autoencoder_generator(test_generator)\n",
    "\n",
    "history = autoencoder.fit(\n",
    "    autoencoder_train_generator,\n",
    "    steps_per_epoch=len(train_generator),\n",
    "    validation_data=autoencoder_test_generator,\n",
    "    validation_steps=len(test_generator),\n",
    "    epochs=epochs\n",
    ")\n",
    "\n",
    "os.makedirs(os.path.dirname(model_path), exist_ok=True)\n",
    "autoencoder.save(model_path)\n",
    "print(\"Autoencoder trained and saved at:\", model_path)"
   ]
  },
  {
   "cell_type": "markdown",
   "id": "34936c03",
   "metadata": {},
   "source": [
    "Trains the autoencoder using the generated training data, validates on test data, and saves the trained model to the specified path, creating directories if needed.\n"
   ]
  },
  {
   "cell_type": "code",
   "execution_count": 8,
   "id": "a64872cb",
   "metadata": {},
   "outputs": [
    {
     "data": {
      "image/png": "[encoded data removed]",
      "text/plain": [
       "<Figure size 640x480 with 1 Axes>"
      ]
     },
     "metadata": {},
     "output_type": "display_data"
    }
   ],
   "source": [
    "import matplotlib.pyplot as plt\n",
    "\n",
    "# Plot training & validation loss values\n",
    "plt.plot(history.history['loss'])\n",
    "plt.plot(history.history['val_loss'])\n",
    "plt.title('Model Loss')\n",
    "plt.ylabel('Loss')\n",
    "plt.xlabel('Epoch')\n",
    "plt.legend(['Train', 'Test'], loc='upper left')\n",
    "plt.show()"
   ]
  },
  {
   "cell_type": "markdown",
   "id": "5eb07985",
   "metadata": {},
   "source": [
    "Plots the training and validation loss curves over epochs to visualize the autoencoder’s learning progress.\n"
   ]
  },
  {
   "cell_type": "code",
   "execution_count": null,
   "id": "d2a00686",
   "metadata": {},
   "outputs": [],
   "source": [
    "shutil.move(\"model/encoder_model.keras\", \"backend/model/encoder_model.keras\")"
   ]
  }
 ],
 "metadata": {
  "kernelspec": {
   "display_name": "myenv",
   "language": "python",
   "name": "python3"
  },
  "language_info": {
   "codemirror_mode": {
    "name": "ipython",
    "version": 3
   },
   "file_extension": ".py",
   "mimetype": "text/x-python",
   "name": "python",
   "nbconvert_exporter": "python",
   "pygments_lexer": "ipython3",
   "version": "3.10.16"
  }
 },
 "nbformat": 4,
 "nbformat_minor": 5
}
