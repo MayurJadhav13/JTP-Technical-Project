{
 "cells": [
  {
   "cell_type": "markdown",
   "id": "4ff2e570",
   "metadata": {},
   "source": [
    "Dataset Preparation for Image Recommendation System\n",
    "\n"
   ]
  },
  {
   "cell_type": "markdown",
   "id": "9d1f46c3",
   "metadata": {},
   "source": [
    "\n",
    "\n",
    "This notebook handles downloading, organizing, and preprocessing the dataset for training and testing the image recommendation system. It fetches fashion product images from Kaggle and prepares them into train/test folders.\n",
    "\n",
    "The notebook is structured as follows:\n",
    "\n",
    "- Import necessary libraries and set up environment\n",
    "- Uses os, pandas, shutil, zipfile, and train_test_split from sklearn.\n",
    "- Configure downloaded dataset from Kaggle.\n",
    "- Load and preprocess metadata\n",
    "- Loads styles.csv, filters valid image files, and stratifies data into train/test.\n",
    "- Copy images to train/test folders\n",
    "- Copies images into corresponding directories based on split labels."
   ]
  },
  {
   "cell_type": "code",
   "execution_count": 1,
   "id": "9cecc919",
   "metadata": {},
   "outputs": [],
   "source": [
    "import os\n",
    "import shutil\n",
    "import pandas as pd\n",
    "from sklearn.model_selection import train_test_split"
   ]
  },
  {
   "cell_type": "markdown",
   "id": "740b238a",
   "metadata": {},
   "source": [
    "Imports modules for file operations (`os`, `shutil`), data handling (`pandas`), and splitting datasets into training and testing sets (`train_test_split`).\n"
   ]
  },
  {
   "cell_type": "code",
   "execution_count": null,
   "id": "ac096e32",
   "metadata": {},
   "outputs": [],
   "source": [
    "# Load and prepare CSV\n",
    "df = pd.read_csv(r'fashion-dataset\\styles.csv', on_bad_lines='skip')\n",
    "df.fillna({'masterCategory': 'Apparel', 'subCategory': 'Topwear', 'season': 'Summer', 'usage': 'Casual'}, inplace=True)\n",
    "df['stratify_col'] = df['masterCategory'] + \"_\" + df['subCategory'] + \"_\" + df['season'] + \"_\" + df['usage']"
   ]
  },
  {
   "cell_type": "markdown",
   "id": "f8c05047",
   "metadata": {},
   "source": [
    "Loads a CSV file into a DataFrame, fills missing values in specific columns with default categories, and creates a new column combining several features for stratified sampling.\n"
   ]
  },
  {
   "cell_type": "code",
   "execution_count": 3,
   "id": "d5d86649",
   "metadata": {},
   "outputs": [],
   "source": [
    "# Filter out rare classes\n",
    "min_instances = 2\n",
    "class_counts = df['stratify_col'].value_counts()\n",
    "valid_classes = class_counts[class_counts >= min_instances].index\n",
    "df = df[df['stratify_col'].isin(valid_classes)]\n",
    "\n",
    "# Train-test split\n",
    "train_df, test_df = train_test_split(df, test_size=0.2, stratify=df['stratify_col'], random_state=42)"
   ]
  },
  {
   "cell_type": "markdown",
   "id": "434dedc1",
   "metadata": {},
   "source": [
    "Filters out classes with fewer than 2 instances, then splits the dataset into training and testing sets with stratification based on combined categories to maintain class distribution.\n"
   ]
  },
  {
   "cell_type": "code",
   "execution_count": null,
   "id": "77d505e2",
   "metadata": {},
   "outputs": [],
   "source": [
    "# Paths\n",
    "image_dataset_path = \"fashion-dataset/images\"\n",
    "train_path = \"data/Train/train\"\n",
    "test_path = \"data/Test/test\"\n",
    "os.makedirs(train_path, exist_ok=True)\n",
    "os.makedirs(test_path, exist_ok=True)"
   ]
  },
  {
   "cell_type": "markdown",
   "id": "9c7072ab",
   "metadata": {},
   "source": [
    "Sets directory paths for the image dataset and training/testing folders, then creates the training and testing directories if they don’t already exist.\n"
   ]
  },
  {
   "cell_type": "code",
   "execution_count": 6,
   "id": "9ca05660",
   "metadata": {},
   "outputs": [
    {
     "name": "stdout",
     "output_type": "stream",
     "text": [
      "Images copied to train and test folders.\n"
     ]
    }
   ],
   "source": [
    "# Copy images\n",
    "def copy_images(df, dest_folder):\n",
    "    for _, row in df.iterrows():\n",
    "        src = os.path.join(image_dataset_path, f\"{row['id']}.jpg\")\n",
    "        dst = os.path.join(dest_folder, f\"{row['id']}.jpg\")\n",
    "        if os.path.exists(src):\n",
    "           shutil.copy(src, dst)\n",
    "\n",
    "copy_images(train_df, train_path)\n",
    "copy_images(test_df, test_path)\n",
    "print(\"Images copied to train and test folders.\")"
   ]
  },
  {
   "cell_type": "markdown",
   "id": "285bae59",
   "metadata": {},
   "source": [
    "Defines a function to copy images from the dataset to destination folders based on DataFrame entries, then copies training and testing images accordingly.\n"
   ]
  }
 ],
 "metadata": {
  "kernelspec": {
   "display_name": "myenv",
   "language": "python",
   "name": "python3"
  },
  "language_info": {
   "codemirror_mode": {
    "name": "ipython",
    "version": 3
   },
   "file_extension": ".py",
   "mimetype": "text/x-python",
   "name": "python",
   "nbconvert_exporter": "python",
   "pygments_lexer": "ipython3",
   "version": "3.10.16"
  }
 },
 "nbformat": 4,
 "nbformat_minor": 5
}
